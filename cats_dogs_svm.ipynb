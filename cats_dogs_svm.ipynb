{
  "nbformat": 4,
  "nbformat_minor": 0,
  "metadata": {
    "colab": {
      "provenance": []
    },
    "kernelspec": {
      "name": "python3",
      "display_name": "Python 3"
    },
    "language_info": {
      "name": "python"
    }
  },
  "cells": [
    {
      "cell_type": "markdown",
      "source": [
        "# **Cat vs Dog Classification with SVM**"
      ],
      "metadata": {
        "id": "J5x3ZkIMkhuq"
      }
    },
    {
      "cell_type": "code",
      "execution_count": 10,
      "metadata": {
        "colab": {
          "base_uri": "https://localhost:8080/"
        },
        "id": "wSEhvYhzc82f",
        "outputId": "3384c7fa-00b5-4151-8396-4d1e981d7d53"
      },
      "outputs": [
        {
          "output_type": "execute_result",
          "data": {
            "text/plain": [
              "['dog.8015.jpg',\n",
              " 'cat.4058.jpg',\n",
              " 'dog.7079.jpg',\n",
              " 'dog.3800.jpg',\n",
              " 'cat.11511.jpg',\n",
              " 'dog.8980.jpg',\n",
              " 'cat.7394.jpg',\n",
              " 'dog.1676.jpg',\n",
              " 'dog.7021.jpg',\n",
              " 'cat.2482.jpg']"
            ]
          },
          "metadata": {},
          "execution_count": 10
        }
      ],
      "source": [
        "import zipfile\n",
        "import os\n",
        "\n",
        "# unzip dataset\n",
        "with zipfile.ZipFile(\"/train.zip\", 'r') as zip_ref:\n",
        "    zip_ref.extractall(\"/content/data\")\n",
        "\n",
        "# check folders\n",
        "os.listdir(\"/content/data/train\")[:10]\n"
      ]
    },
    {
      "cell_type": "markdown",
      "source": [
        "**Importing Libraries**"
      ],
      "metadata": {
        "id": "Cx_Mgs0GmDRs"
      }
    },
    {
      "cell_type": "code",
      "source": [
        "import numpy as np\n",
        "import pandas as pd\n",
        "import matplotlib.pyplot as plt\n",
        "import cv2\n",
        "import os\n",
        "from tqdm import tqdm\n",
        "from sklearn.model_selection import train_test_split\n",
        "from sklearn.svm import SVC\n",
        "from sklearn.metrics import classification_report, accuracy_score\n"
      ],
      "metadata": {
        "id": "jslA9AUhl_Te"
      },
      "execution_count": 11,
      "outputs": []
    },
    {
      "cell_type": "markdown",
      "source": [
        "**Preprocessing Images**"
      ],
      "metadata": {
        "id": "6d1yb_H0mN8n"
      }
    },
    {
      "cell_type": "code",
      "source": [
        "import os\n",
        "import cv2\n",
        "import pandas as pd\n",
        "import numpy as np\n",
        "from tqdm import tqdm\n",
        "\n",
        "data_dir = \"/content/data/train\"  # folder with images\n",
        "image_size = 32  # smaller size for faster processing\n",
        "\n",
        "X = []\n",
        "y = []\n",
        "\n",
        "# Sample only a subset of images (e.g., 2000 images)\n",
        "all_images = os.listdir(data_dir)\n",
        "sample_images = all_images[:2000]  # pick first 2000 images (or random.sample)\n",
        "\n",
        "for img_name in tqdm(sample_images):\n",
        "    label = 0 if \"cat\" in img_name else 1  # 0 = cat, 1 = dog\n",
        "    img_path = os.path.join(data_dir, img_name)\n",
        "    img = cv2.imread(img_path)\n",
        "    if img is None:\n",
        "        continue\n",
        "    img = cv2.resize(img, (image_size, image_size))\n",
        "    X.append(img.flatten())\n",
        "    y.append(label)\n",
        "\n",
        "# Create DataFrame\n",
        "df = pd.DataFrame(X)\n",
        "df['label'] = y\n",
        "print(df.shape)\n"
      ],
      "metadata": {
        "colab": {
          "base_uri": "https://localhost:8080/"
        },
        "id": "9c_BtapAmTHb",
        "outputId": "bbf63bef-48e4-453b-824d-c38d6306f293"
      },
      "execution_count": 12,
      "outputs": [
        {
          "output_type": "stream",
          "name": "stderr",
          "text": [
            "100%|██████████| 2000/2000 [00:02<00:00, 739.70it/s]\n"
          ]
        },
        {
          "output_type": "stream",
          "name": "stdout",
          "text": [
            "(2000, 3073)\n"
          ]
        }
      ]
    },
    {
      "cell_type": "markdown",
      "source": [
        "**Train-Test Splitting**"
      ],
      "metadata": {
        "id": "XttGCRthmhB2"
      }
    },
    {
      "cell_type": "code",
      "source": [
        "X_train, X_test, y_train, y_test = train_test_split(\n",
        "    X, y, test_size=0.2, random_state=42, stratify=y\n",
        ")\n"
      ],
      "metadata": {
        "id": "5drJAAiPmpZf"
      },
      "execution_count": 13,
      "outputs": []
    },
    {
      "cell_type": "markdown",
      "source": [
        "**Training SVM Classifier**"
      ],
      "metadata": {
        "id": "sVe4avPYmwKW"
      }
    },
    {
      "cell_type": "code",
      "source": [
        "from sklearn.model_selection import train_test_split\n",
        "from sklearn.svm import SVC\n",
        "from sklearn.metrics import accuracy_score, classification_report\n",
        "\n",
        "# Step 4: Prepare features and labels\n",
        "X = df.drop('label', axis=1).values  # all flattened pixel values\n",
        "y = df['label'].values               # labels: 0 = cat, 1 = dog\n",
        "\n",
        "# Step 4: Split into training and testing sets (80% train, 20% test)\n",
        "X_train, X_test, y_train, y_test = train_test_split(\n",
        "    X, y, test_size=0.2, random_state=42, stratify=y\n",
        ")\n",
        "\n",
        "# Step 5: Train the SVM model\n",
        "print(\"Training SVM...\")\n",
        "model = SVC(kernel='linear', random_state=42)  # linear kernel\n",
        "model.fit(X_train, y_train)\n",
        "print(\"Training completed!\")\n",
        "\n",
        "# Step 5: Evaluate the model\n",
        "y_pred = model.predict(X_test)\n",
        "\n",
        "accuracy = accuracy_score(y_test, y_pred)\n",
        "print(f\"Accuracy on test set: {accuracy*100:.2f}%\\n\")\n",
        "\n",
        "print(\"Classification Report:\")\n",
        "print(classification_report(y_test, y_pred, target_names=[\"Cat\", \"Dog\"]))\n"
      ],
      "metadata": {
        "colab": {
          "base_uri": "https://localhost:8080/"
        },
        "id": "VsLYVTnIm9g9",
        "outputId": "887a8a6e-65f3-4f59-e91b-ddee9358a1d3"
      },
      "execution_count": 14,
      "outputs": [
        {
          "output_type": "stream",
          "name": "stdout",
          "text": [
            "Training SVM...\n",
            "Training completed!\n",
            "Accuracy on test set: 52.75%\n",
            "\n",
            "Classification Report:\n",
            "              precision    recall  f1-score   support\n",
            "\n",
            "         Cat       0.49      0.52      0.50       185\n",
            "         Dog       0.56      0.53      0.55       215\n",
            "\n",
            "    accuracy                           0.53       400\n",
            "   macro avg       0.53      0.53      0.53       400\n",
            "weighted avg       0.53      0.53      0.53       400\n",
            "\n"
          ]
        }
      ]
    },
    {
      "cell_type": "markdown",
      "source": [
        "**Evaluating Model**"
      ],
      "metadata": {
        "id": "gj1YNTegnBxO"
      }
    },
    {
      "cell_type": "code",
      "source": [
        "y_pred = model.predict(X_test)\n",
        "\n",
        "print(\"Accuracy:\", accuracy_score(y_test, y_pred))\n",
        "print(\"\\nClassification Report:\\n\", classification_report(y_test, y_pred, target_names=[\"Cat\", \"Dog\"]))\n"
      ],
      "metadata": {
        "colab": {
          "base_uri": "https://localhost:8080/"
        },
        "id": "5asdQdWYnGWr",
        "outputId": "0cf52b63-e6ff-40b7-c105-f3d926e1547a"
      },
      "execution_count": 15,
      "outputs": [
        {
          "output_type": "stream",
          "name": "stdout",
          "text": [
            "Accuracy: 0.5275\n",
            "\n",
            "Classification Report:\n",
            "               precision    recall  f1-score   support\n",
            "\n",
            "         Cat       0.49      0.52      0.50       185\n",
            "         Dog       0.56      0.53      0.55       215\n",
            "\n",
            "    accuracy                           0.53       400\n",
            "   macro avg       0.53      0.53      0.53       400\n",
            "weighted avg       0.53      0.53      0.53       400\n",
            "\n"
          ]
        }
      ]
    },
    {
      "cell_type": "markdown",
      "source": [
        "**Testing on a Random Images**"
      ],
      "metadata": {
        "id": "2GqUeNOCnJL8"
      }
    },
    {
      "cell_type": "code",
      "source": [
        "import random\n",
        "import matplotlib.pyplot as plt\n",
        "\n",
        "# pick a random test image\n",
        "idx = random.randint(0, len(X_test)-1)\n",
        "test_img = X_test[idx].reshape(image_size, image_size, 3)\n",
        "\n",
        "plt.imshow(test_img.astype(\"uint8\"))\n",
        "plt.axis(\"off\")\n",
        "plt.title(\"Predicted: \" + (\"Dog\" if y_pred[idx]==1 else \"Cat\"))\n",
        "plt.show()"
      ],
      "metadata": {
        "colab": {
          "base_uri": "https://localhost:8080/",
          "height": 428
        },
        "id": "8LLiiQCSnIo8",
        "outputId": "d95033d7-8ebe-454d-b20d-6d752b2ed16e"
      },
      "execution_count": 16,
      "outputs": [
        {
          "output_type": "display_data",
          "data": {
            "text/plain": [
              "<Figure size 640x480 with 1 Axes>"
            ],
            "image/png": "[encoded data removed]"
          },
          "metadata": {}
        }
      ]
    },
    {
      "cell_type": "code",
      "source": [
        "import random\n",
        "import matplotlib.pyplot as plt\n",
        "\n",
        "# pick a random test image\n",
        "idx = random.randint(0, len(X_test)-1)\n",
        "test_img = X_test[idx].reshape(image_size, image_size, 3)\n",
        "\n",
        "true_label = \"Dog\" if y_test[idx] == 1 else \"Cat\"\n",
        "pred_label = \"Dog\" if y_pred[idx] == 1 else \"Cat\"\n",
        "\n",
        "plt.imshow(test_img.astype(\"uint8\"))\n",
        "plt.axis(\"off\")\n",
        "plt.title(f\"Predicted: {pred_label}, True: {true_label}\")\n",
        "plt.show()\n"
      ],
      "metadata": {
        "colab": {
          "base_uri": "https://localhost:8080/",
          "height": 428
        },
        "id": "xvbsHixvtQwv",
        "outputId": "ca404eed-f26a-417f-be5a-e47205c56182"
      },
      "execution_count": 17,
      "outputs": [
        {
          "output_type": "display_data",
          "data": {
            "text/plain": [
              "<Figure size 640x480 with 1 Axes>"
            ],
            "image/png": "[encoded data removed]"
          },
          "metadata": {}
        }
      ]
    }
  ]
}